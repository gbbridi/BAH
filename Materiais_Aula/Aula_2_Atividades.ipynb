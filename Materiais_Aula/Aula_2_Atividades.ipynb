{
  "nbformat": 4,
  "nbformat_minor": 0,
  "metadata": {
    "colab": {
      "provenance": []
    },
    "kernelspec": {
      "name": "python3",
      "display_name": "Python 3"
    },
    "language_info": {
      "name": "python"
    }
  },
  "cells": [
    {
      "cell_type": "markdown",
      "source": [
        "# Atividades NumPy\n",
        "\n",
        "NumPy é um pacote extremamente interessante e necessário de aprender pois ele é o que está por trás de diversos pacotes mais avançados (alguns que veremos) do Pyhon. Alguns desses pacotes incluem o Pandas, Seaborn, Scikit-Learn e Tensorflow.\n",
        "\n",
        "A seguir serão passadas algumas atividades simples para a fixação do conteúdo."
      ],
      "metadata": {
        "id": "6g_L-PwS_tPa"
      }
    },
    {
      "cell_type": "code",
      "source": [
        "#Rode esse código para usar o numpy, sinta-se livre para alterá-lo.\n",
        "import numpy as np"
      ],
      "metadata": {
        "id": "jaMPX9rGEApx"
      },
      "execution_count": 3,
      "outputs": []
    },
    {
      "cell_type": "markdown",
      "source": [
        "## Atividade 1\n",
        "\n",
        "Crie um Array que vá do número 2017 até 2024. Comente qual a principal diferença de um array para uma lista? Printe o tipo do array e o tipo dos elementos do array. Transforme esse array num array bidimensional.\n",
        "\n",
        "Desafio:\n",
        "Mude o tipo dos elementos array para o que ocupe menos memória possível sem alterar os elementos do array."
      ],
      "metadata": {
        "id": "5KBF94wnAb1i"
      }
    },
    {
      "cell_type": "code",
      "execution_count": 12,
      "metadata": {
        "id": "54JsgjI__n_W",
        "outputId": "62663a65-3f4c-4681-96f8-b4fb3da80193",
        "colab": {
          "base_uri": "https://localhost:8080/"
        }
      },
      "outputs": [
        {
          "output_type": "stream",
          "name": "stdout",
          "text": [
            "<class 'numpy.ndarray'>\n",
            "int64\n",
            "[[2017 2018 2019 2020]\n",
            " [2021 2022 2023 2024]]\n",
            "[[2017 2018 2019 2020]\n",
            " [2021 2022 2023 2024]]\n",
            "uint16\n"
          ]
        }
      ],
      "source": [
        "#Diferença do array para lista: Memória é alocada de uma só vez para todos elementos. Sendo mais rápido e leve para trabalhar com grande conjunto de dados\n",
        "array_teste = np.arange(2017,2025,1)\n",
        "print(type(array_teste))\n",
        "print(array_teste[0].dtype)\n",
        "#print(array_teste.dtype[0])\n",
        "array2 = array_teste.reshape(2,4)\n",
        "print(array2)\n",
        "#Para reduzir memória podemos mudar para .uint16 (16 bits)\n",
        "array_final = array2.astype(np.uint16)\n",
        "print(array_final)\n",
        "print(array_final.dtype)"
      ]
    },
    {
      "cell_type": "markdown",
      "source": [
        "## Atividade 2\n",
        "\n",
        "1.   Crie um array de números aleatórios entre 0 e 10;\n",
        "2.   Defina um valor limite de 0 a 10, por exemplo, 4;\n",
        "3.   Encontre os índices dos elementos maiores do que o valor limite;\n",
        "4.   Acessar os valores dos elementos maiores do que o valor limite;\n",
        "5.   Substitua os valores maiores que o limite por 0.\n",
        "\n"
      ],
      "metadata": {
        "id": "2ebMd7pYT-2g"
      }
    },
    {
      "cell_type": "code",
      "source": [
        "#1\n",
        "aleatorios = np.random.randint(low=0, high=11, size=5)\n",
        "print(aleatorios)\n",
        "#2\n",
        "limite = 4\n",
        "#3,4 e 5\n",
        "for i in range(len(aleatorios)):\n",
        "  if aleatorios[i] > 4:\n",
        "    aleatorios[i] = 0\n",
        "print(aleatorios)"
      ],
      "metadata": {
        "id": "PyL3Sd4CaBKP",
        "outputId": "cf71af19-9c3d-40ff-948d-d448c8b7a6a1",
        "colab": {
          "base_uri": "https://localhost:8080/"
        }
      },
      "execution_count": 21,
      "outputs": [
        {
          "output_type": "stream",
          "name": "stdout",
          "text": [
            "[4 1 5 4 5]\n",
            "[4 1 0 4 0]\n"
          ]
        }
      ]
    },
    {
      "cell_type": "markdown",
      "source": [
        "## Atividade 3\n",
        "\n",
        "Foi adicionado uma lista para representar as vendas mensais de três empresas ao longo do ano.\n",
        "\n",
        "\n",
        "1.   Transforme essa lista em Array;\n",
        "2.   Calcule o valor minimo, maximo e medio da lista;\n",
        "3.   Calcule a soma de cada mês e adicione uma coluna com esses resultados;\n",
        "4.   Calcule a média de cada empresa (e da soma) e adicione como linha final;\n",
        "5.   Remova as agregações;\n",
        "6.   Separe o array em 4 arrays de trimestres.\n",
        "7.   Faça as vendas esperadas para o ano seguinte. Espera-se que o primeiro trimestre terá um crescimento de 5%, 15% para o segundo trimestre, queda de 5% para o terceiro trimestre e crescimento de 20% para o último trimestre.\n",
        "8. Junte esses arrays em um novo array, mantendo a separação por trimestre.\n",
        "\n",
        "Desafio: Faça as vendas esperadas através da multiplicação do array de vendas trimestrais pelo array de crescimento. Transforme o array resultante para que ele tenha o mesmo shape do array original.\n",
        "\n",
        "Espera-se Split, Stack, Concatenate e Delete.\n",
        "\n"
      ],
      "metadata": {
        "id": "41XqB18mC3Og"
      }
    },
    {
      "cell_type": "code",
      "source": [
        "vendas_mensais= [\n",
        "    [10000, 15000, 20000],  # Janeiro\n",
        "    [11000, 14000, 22000],  # Fevereiro\n",
        "    [12000, 16000, 21000],  # Março\n",
        "    [10500, 15500, 21500],  # Abril\n",
        "    [11500, 14500, 22500],  # Maio\n",
        "    [12500, 16500, 20500],  # Junho\n",
        "    [13000, 17000, 19500],  # Julho\n",
        "    [13500, 17500, 18500],  # Agosto\n",
        "    [14000, 18000, 17500],  # Setembro\n",
        "    [14500, 18500, 16500],  # Outubro\n",
        "    [15000, 19000, 15500],  # Novembro\n",
        "    [15500, 19500, 14500]   # Dezembro\n",
        "]\n",
        "#1 Transformar em array\n",
        "array_vendas_mensais = np.array(vendas_mensais)\n",
        "print(vendas_mensais)\n",
        "\n",
        "#2 Valor min, max e medio\n",
        "minimo = np.min(array_vendas_mensais)\n",
        "maximo = np.max(array_vendas_mensais)\n",
        "media = round(np.mean(array_vendas_mensais),2)\n",
        "print(minimo)\n",
        "print(maximo)\n",
        "print(media)\n",
        "\n",
        "3# Calcule a soma de cada mês e adicione uma coluna com esses resultados;\n",
        "\n",
        "soma_meses = np.sum(array_vendas_mensais, 1)\n",
        "print(soma_meses)\n",
        "soma_array_vendas_mensais = np.column_stack([array_vendas_mensais, soma_meses])\n",
        "print(soma_array_vendas_mensais)\n",
        "\n",
        "#4 Media de cada empresa e da soma total\n",
        "transposta = soma_array_vendas_mensais.T\n",
        "transposta\n",
        "\n",
        "media_transposta = np.mean(transposta,1)\n",
        "print(media_transposta)\n",
        "media_soma_transposta = np.column_stack((transposta, media_transposta))\n",
        "print(media_soma_transposta.T)\n",
        "\n",
        "#5 Remova as agregações\n",
        "array_remocao = media_soma_transposta.T[:-1,:-1]\n",
        "print(array_remocao)\n",
        "\n",
        "#6 Separe o array em 4 arrays de trimestres\n",
        "array_1 = array_remocao[:3]\n",
        "array_2 = array_remocao[3:6]\n",
        "array_3 = array_remocao[6:9]\n",
        "array_4 = array_remocao[9:12]\n",
        "print(array_1)\n",
        "print(array_2)\n",
        "print(array_3)\n",
        "print(array_4)\n",
        "\n",
        "#7 Previsao futura de vendas\n",
        "array_futuro_1 = np.array(array_1)\n",
        "array_futuro_2 = np.array(array_2)\n",
        "array_futuro_3 = np.array(array_3)\n",
        "array_futuro_4 = np.array(array_4)\n",
        "\n",
        "array_futuro_1 += array_1 * 0.05\n",
        "array_futuro_2 += array_2 * 0.15\n",
        "array_futuro_3 -= array_3 * 0.15\n",
        "array_futuro_4 += array_4 * 0.20\n",
        "print(array_futuro_1)\n",
        "print(array_futuro_2)\n",
        "print(array_futuro_3)\n",
        "print(array_futuro_4)\n",
        "\n",
        "#8 Juntando os arrays em um novo array\n",
        "array_final = np.concatenate((array_futuro_1, array_futuro_2, array_futuro_3, array_futuro_4))\n",
        "print(array_final)\n",
        "\n"
      ],
      "metadata": {
        "id": "IL59o9i9EQgw",
        "outputId": "d0ea4cc2-84fe-49d5-8d09-f624e4709188",
        "colab": {
          "base_uri": "https://localhost:8080/"
        }
      },
      "execution_count": 34,
      "outputs": [
        {
          "output_type": "stream",
          "name": "stdout",
          "text": [
            "[[10000. 15000. 20000.]\n",
            " [11000. 14000. 22000.]\n",
            " [12000. 16000. 21000.]]\n",
            "[[10500. 15500. 21500.]\n",
            " [11500. 14500. 22500.]\n",
            " [12500. 16500. 20500.]]\n",
            "[[13000. 17000. 19500.]\n",
            " [13500. 17500. 18500.]\n",
            " [14000. 18000. 17500.]]\n",
            "[[14500. 18500. 16500.]\n",
            " [15000. 19000. 15500.]\n",
            " [15500. 19500. 14500.]]\n",
            "[[10500. 15750. 21000.]\n",
            " [11550. 14700. 23100.]\n",
            " [12600. 16800. 22050.]]\n",
            "[[12075. 17825. 24725.]\n",
            " [13225. 16675. 25875.]\n",
            " [14375. 18975. 23575.]]\n",
            "[[11050. 14450. 16575.]\n",
            " [11475. 14875. 15725.]\n",
            " [11900. 15300. 14875.]]\n",
            "[[17400. 22200. 19800.]\n",
            " [18000. 22800. 18600.]\n",
            " [18600. 23400. 17400.]]\n",
            "[[10500. 15750. 21000.]\n",
            " [11550. 14700. 23100.]\n",
            " [12600. 16800. 22050.]\n",
            " [12075. 17825. 24725.]\n",
            " [13225. 16675. 25875.]\n",
            " [14375. 18975. 23575.]\n",
            " [11050. 14450. 16575.]\n",
            " [11475. 14875. 15725.]\n",
            " [11900. 15300. 14875.]\n",
            " [17400. 22200. 19800.]\n",
            " [18000. 22800. 18600.]\n",
            " [18600. 23400. 17400.]]\n"
          ]
        }
      ]
    },
    {
      "cell_type": "markdown",
      "source": [
        "## Atividade 4\n",
        "\n",
        "Crie um array com o nome de todos os membros do grupo. Uilize das propriedades do Numpy para deixar todos os nomes em letras maiúsculas."
      ],
      "metadata": {
        "id": "BKXS5SVYSqug"
      }
    },
    {
      "cell_type": "code",
      "source": [
        "lista_nomes = ['Camila Fonseca Ferreira', 'Gabriel Dubal Ramos', 'Guilherme Bueno Bridi', 'Luiza Oliveira Fussiger', 'Vítor Fabiano da Rosa Machado']\n",
        "nomes = np.array(lista_nomes)\n",
        "nomes_maiusculo = np.char.upper(nomes)\n",
        "print(nomes_maiusculo)"
      ],
      "metadata": {
        "id": "dOVxoUZRaEhe",
        "outputId": "05e5c4a3-b2f3-467f-aad7-423a9739a3d0",
        "colab": {
          "base_uri": "https://localhost:8080/"
        }
      },
      "execution_count": 8,
      "outputs": [
        {
          "output_type": "stream",
          "name": "stdout",
          "text": [
            "['CAMILA FONSECA FERREIRA' 'GABRIEL DUBAL RAMOS' 'GUILHERME BUENO BRIDI'\n",
            " 'LUIZA OLIVEIRA FUSSIGER' 'VÍTOR FABIANO DA ROSA MACHADO']\n"
          ]
        }
      ]
    },
    {
      "cell_type": "markdown",
      "source": [
        "## Atividade 5\n",
        "\n",
        "Considerando manhã = 1 e tarde = 2, concatene o número do turno mais o número do grupo. Defina esse número como a seed. Crie uma sequencia de 10 números aleatorios entre 0 e 1. Calcule quantos desses são maiores que 0.5. Agora crie uma sequencia novamente. Essa sequencia é igual a primeira? Se não, crie uma sequencia \"aleatória\" novamente que tenha os mesmos números da primeira sequência. O que acontece se é repetido o código novamente?"
      ],
      "metadata": {
        "id": "3juf4wWTaEt_"
      }
    },
    {
      "cell_type": "code",
      "source": [
        "manha = 1\n",
        "tarde = 2\n",
        "grupo = 3\n",
        "seed = int(str(manha)+str(grupo))\n",
        "print(f'A seed é: {seed}')\n",
        "np.random.seed(seed)\n",
        "\n",
        "aleatorio = np.random.uniform(low=0.00, high=1.00, size=10)\n",
        "print(aleatorio)\n",
        "k = 0\n",
        "for i in range(len(aleatorio)):\n",
        "  if aleatorio[i] > 0.5:\n",
        "    k += 1\n",
        "print(f'Quantidade de valores maiores que 0.5: {k}')\n",
        "\n",
        "np.random.seed(seed)\n",
        "aleatorio_2 = np.random.uniform(low=0.00, high=1.00, size=10)\n",
        "print(aleatorio_2)\n",
        "\n",
        "#Temos que redefinir a seed a cada vez que vamos ativar o random."
      ],
      "metadata": {
        "id": "8NyhDIRAfHg-",
        "outputId": "a6f41e4a-11d0-432d-db71-7d01962d5fe4",
        "colab": {
          "base_uri": "https://localhost:8080/"
        }
      },
      "execution_count": 21,
      "outputs": [
        {
          "output_type": "stream",
          "name": "stdout",
          "text": [
            "A seed é: 13\n",
            "[0.77770241 0.23754122 0.82427853 0.9657492  0.97260111 0.45344925\n",
            " 0.60904246 0.77552651 0.64161334 0.72201823]\n",
            "Quantidade de valores maiores que 0.5: 8\n",
            "[0.77770241 0.23754122 0.82427853 0.9657492  0.97260111 0.45344925\n",
            " 0.60904246 0.77552651 0.64161334 0.72201823]\n"
          ]
        }
      ]
    },
    {
      "cell_type": "code",
      "source": [],
      "metadata": {
        "id": "PIcvHRHPYpBF"
      },
      "execution_count": null,
      "outputs": []
    }
  ]
}